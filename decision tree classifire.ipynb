{
 "cells": [
  {
   "cell_type": "code",
   "execution_count": 2,
   "id": "5f732c35",
   "metadata": {},
   "outputs": [
    {
     "name": "stdout",
     "output_type": "stream",
     "text": [
      "['male']\n"
     ]
    }
   ],
   "source": [
    "from sklearn import tree\n",
    "\n",
    "#give values to the parameters height, weight, shoe size for input data\n",
    "X = [[181, 80, 44], [177, 70, 43], [160, 60, 38], [154, 54, 37], [166, 65, 40], [190, 90, 45], [175, 64, 39],\n",
    "     [177, 70, 40], [159, 55, 37], [171, 75, 42], [181, 85, 43], [170, 60, 41], [168, 55, 36], [155, 47, 35], \n",
    "     [163, 53, 37],  [173,58, 41], [181, 86, 43], [165, 70, 40], [175, 65, 40], [168, 75, 41]]\n",
    "\n",
    "#write the gender definition of the parameters for the output data\n",
    "Y = ['male', 'male', 'female', 'female', 'male', 'male', 'female', \n",
    "     'female', 'female', 'male', 'male','male', 'female', 'female',\n",
    "     'female','male', 'male', 'male', 'female', 'male']\n",
    "\n",
    "#use Decision Tree Classifier for training\n",
    "clf = tree.DecisionTreeClassifier()\n",
    "\n",
    "clf = clf.fit(X, Y)\n",
    "\n",
    "#call the prediction method\n",
    "prediction = clf.predict([[173, 59, 41]])\n",
    "\n",
    "print(prediction)"
   ]
  },
  {
   "cell_type": "code",
   "execution_count": null,
   "id": "6cb6a856",
   "metadata": {},
   "outputs": [],
   "source": []
  }
 ],
 "metadata": {
  "kernelspec": {
   "display_name": "Python 3 (ipykernel)",
   "language": "python",
   "name": "python3"
  },
  "language_info": {
   "codemirror_mode": {
    "name": "ipython",
    "version": 3
   },
   "file_extension": ".py",
   "mimetype": "text/x-python",
   "name": "python",
   "nbconvert_exporter": "python",
   "pygments_lexer": "ipython3",
   "version": "3.11.1"
  }
 },
 "nbformat": 4,
 "nbformat_minor": 5
}
